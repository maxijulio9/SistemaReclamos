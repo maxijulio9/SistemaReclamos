{
 "cells": [
  {
   "cell_type": "code",
   "execution_count": 1,
   "id": "d6273333-0cd2-4ee1-8aa9-a60219d456f9",
   "metadata": {},
   "outputs": [
    {
     "name": "stdout",
     "output_type": "stream",
     "text": [
      "/opt/oracle/instantclient_21_4\n",
      "entering parameters config\n",
      "finished config for parameters\n",
      "entering parameters config\n",
      "finished config for parameters\n",
      "entering parameters config\n",
      "finished config for parameters\n",
      "fin\n"
     ]
    }
   ],
   "source": [
    "from db_models.test import Test\n",
    "from db_models.categoria import Categoria\n",
    "from db_models.estado import Estado\n",
    "\n",
    "print(\"fin\")"
   ]
  },
  {
   "cell_type": "code",
   "execution_count": 2,
   "id": "b674c241-915f-4cd7-8621-daa6b29308a2",
   "metadata": {},
   "outputs": [
    {
     "name": "stdout",
     "output_type": "stream",
     "text": [
      "Hola mundo\n",
      "Tenemos las siguientes estados: CREADO, EN REVISIÓN GESTOR, EN ESPERA DE RESPUESTA USUARIO, ESCALADO, RESUELTO, DESESTIMADO, \n"
     ]
    }
   ],
   "source": [
    "Test.saludo()\n",
    "\n",
    "#Categoria.all_categorias()\n",
    "#data = Estado()\n",
    "response = \"Tenemos las siguientes estados: \"\n",
    "estados = Estado.all_status()\n",
    "for e in estados:\n",
    "    response += e[1]+\", \"\n",
    "print(response)"
   ]
  },
  {
   "cell_type": "code",
   "execution_count": 5,
   "id": "2258b615-ee7f-4045-b2d0-274589154563",
   "metadata": {},
   "outputs": [
    {
     "name": "stdout",
     "output_type": "stream",
     "text": [
      "[(3.0, 'EN ESPERA DE RESPUESTA USUARIO', 'El gestor atendió el reclamo pero necesita de la ayuda del reportador.')]\n",
      "[(3.0, 'EN ESPERA DE RESPUESTA USUARIO', 'El gestor atendió el reclamo pero necesita de la ayuda del reportador.')]\n",
      "[(3.0, 'EN ESPERA DE RESPUESTA USUARIO', 'El gestor atendió el reclamo pero necesita de la ayuda del reportador.')]\n"
     ]
    }
   ],
   "source": [
    "estadoNombre = Estado.single_status(3)\n",
    "estadoNombre1 = Estado.single_status(3)\n",
    "estadoNombre2 = Estado.single_status(3)\n",
    "\n",
    "print(estadoNombre)\n",
    "print(estadoNombre1)\n",
    "print(estadoNombre2)\n"
   ]
  },
  {
   "cell_type": "code",
   "execution_count": 3,
   "id": "3e8de025-c922-4b4e-98f8-5a6f43ecbf65",
   "metadata": {},
   "outputs": [
    {
     "name": "stdout",
     "output_type": "stream",
     "text": [
      "[(4.0, 'ESCALADO', 'El reclamo fue escalado para un mejor análisis.')]\n"
     ]
    }
   ],
   "source": [
    "estado = Estado.single_status_by_name(\"ESCALADO\")\n",
    "print(estado)\n"
   ]
  },
  {
   "cell_type": "code",
   "execution_count": null,
   "id": "bff740fb-c073-41f3-8883-f7252a5683a9",
   "metadata": {},
   "outputs": [],
   "source": []
  }
 ],
 "metadata": {
  "kernelspec": {
   "display_name": "Python 3 (ipykernel)",
   "language": "python",
   "name": "python3"
  },
  "language_info": {
   "codemirror_mode": {
    "name": "ipython",
    "version": 3
   },
   "file_extension": ".py",
   "mimetype": "text/x-python",
   "name": "python",
   "nbconvert_exporter": "python",
   "pygments_lexer": "ipython3",
   "version": "3.11.6"
  }
 },
 "nbformat": 4,
 "nbformat_minor": 5
}
