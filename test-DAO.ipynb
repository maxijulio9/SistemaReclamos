{
 "cells": [
  {
   "cell_type": "code",
   "execution_count": 1,
   "id": "48dedfd2-375e-43ae-b78b-65e637bd884b",
   "metadata": {},
   "outputs": [
    {
     "name": "stdout",
     "output_type": "stream",
     "text": [
      "/opt/oracle/instantclient_21_4\n",
      "entering parameters config\n",
      "finished config for parameters\n",
      "entering parameters config\n",
      "finished config for parameters\n",
      "entering parameters config\n",
      "finished config for parameters\n",
      "entering parameters config\n",
      "finished config for parameters\n",
      "entering parameters config\n",
      "finished config for parameters\n",
      "entering parameters config\n",
      "finished config for parameters\n",
      "entering parameters config\n",
      "finished config for parameters\n",
      "entering parameters config\n",
      "finished config for parameters\n",
      "entering parameters config\n",
      "finished config for parameters\n",
      "entering parameters config\n",
      "finished config for parameters\n",
      "entering parameters config\n",
      "finished config for parameters\n",
      "entering parameters config\n",
      "finished config for parameters\n",
      "entering parameters config\n",
      "finished config for parameters\n",
      "entering parameters config\n",
      "finished config for parameters\n",
      "entering parameters config\n",
      "finished config for parameters\n",
      "starting\n",
      "finished connection\n",
      "Dao importado\n"
     ]
    }
   ],
   "source": [
    "from dao import ReclamoDAO\n",
    "print(\"Dao importado\")"
   ]
  },
  {
   "cell_type": "code",
   "execution_count": 7,
   "id": "26a274c7-6e14-4af7-9a33-32e6b2407264",
   "metadata": {},
   "outputs": [
    {
     "name": "stdout",
     "output_type": "stream",
     "text": [
      "I'm inside of the method\n",
      "Datos del usuario: \n",
      "[(2.0, 1, 1, 'Maximiliano Javier', 'Julio', 'maximilianojavierjulio@gmail.com', '345356664', '43010166', 'WEWQwmmdQ1!!d')]\n"
     ]
    }
   ],
   "source": [
    "Data =  ReclamoDAO.get_users(use_id = 2)\n",
    "print(Data)"
   ]
  },
  {
   "cell_type": "code",
   "execution_count": 25,
   "id": "bcd601f1-8f4b-4aeb-9d3b-b2f1b2927164",
   "metadata": {},
   "outputs": [
    {
     "name": "stdout",
     "output_type": "stream",
     "text": [
      "I'm inside of the method\n",
      "Los estados posibles son: \n",
      "ID    Nombre                         Descripción                                                                     \n",
      "1.0   CREADO                         El reclamo fue creado con éxito y está pendiende a ser atendido por uno de nuestros gestores.\n",
      "2.0   EN REVISIÓN GESTOR             El reclamo fue asignado a uno de nuestros gestores. Se encuentra en evaluación. \n",
      "3.0   EN ESPERA DE RESPUESTA USUARIO El gestor atendió el reclamo pero necesita de la ayuda del reportador.          \n",
      "4.0   ESCALADO                       El reclamo fue escalado para un mejor análisis.                                 \n",
      "5.0   RESUELTO                       El reclamo fue resuelto con éxito.                                              \n",
      "6.0   DESESTIMADO                    El reclamo fue rechazado por el agente.                                         \n"
     ]
    }
   ],
   "source": [
    "Data =  ReclamoDAO.get_status()\n",
    "#print(\" ID  Nombre  Descripción\")\n",
    "print(\"{:<5} {:<30} {:<80}\".format(\"ID\", \"Nombre\", \"Descripción\"))\n",
    "\n",
    "for e in Data:\n",
    "    #fila = \"  \".join(map(str, e))  # Convertir cada elemento a string y unirlos con espacios\n",
    "    print(\"{:<5} {:<30} {:<80}\".format(e[\"est_id\"], e[\"est_nombre\"], e[\"est_descripcion\"]))\n",
    "    #print(fila)\n",
    "  \n"
   ]
  }
 ],
 "metadata": {
  "kernelspec": {
   "display_name": "Python 3 (ipykernel)",
   "language": "python",
   "name": "python3"
  },
  "language_info": {
   "codemirror_mode": {
    "name": "ipython",
    "version": 3
   },
   "file_extension": ".py",
   "mimetype": "text/x-python",
   "name": "python",
   "nbconvert_exporter": "python",
   "pygments_lexer": "ipython3",
   "version": "3.11.6"
  }
 },
 "nbformat": 4,
 "nbformat_minor": 5
}
