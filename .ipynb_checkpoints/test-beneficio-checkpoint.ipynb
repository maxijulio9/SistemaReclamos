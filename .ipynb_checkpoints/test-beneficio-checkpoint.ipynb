{
 "cells": [
  {
   "cell_type": "code",
   "execution_count": 4,
   "id": "25c142d2-9625-4033-a581-b49e773372ba",
   "metadata": {},
   "outputs": [
    {
     "name": "stdout",
     "output_type": "stream",
     "text": [
      "/opt/oracle/instantclient_21_4\n",
      "entering parameters config\n",
      "finished config for parameters\n"
     ]
    }
   ],
   "source": [
    "from db_models.beneficio import Beneficio\n",
    "print(\"listo\")"
   ]
  },
  {
   "cell_type": "code",
   "execution_count": 5,
   "id": "e767071b-4035-42a9-bef6-30158b67689f",
   "metadata": {},
   "outputs": [
    {
     "name": "stdout",
     "output_type": "stream",
     "text": [
      "Tenemos las siguientes beneficios: Descuento supermercado SpaceX, \n"
     ]
    }
   ],
   "source": [
    "response = \"Tenemos las siguientes beneficios: \"\n",
    "beneficios = Beneficio.all_benefits()\n",
    "for e in beneficios:\n",
    "    response += e[1]+\", \"\n",
    "print(response)"
   ]
  },
  {
   "cell_type": "code",
   "execution_count": 6,
   "id": "40a3894a-a0fc-4bca-ac3a-c9d3bc1bc091",
   "metadata": {},
   "outputs": [
    {
     "ename": "NameError",
     "evalue": "name 'benefit_closest_to_expiration' is not defined",
     "output_type": "error",
     "traceback": [
      "\u001b[0;31m---------------------------------------------------------------------------\u001b[0m",
      "\u001b[0;31mNameError\u001b[0m                                 Traceback (most recent call last)",
      "Cell \u001b[0;32mIn[6], line 1\u001b[0m\n\u001b[0;32m----> 1\u001b[0m \u001b[38;5;28mprint\u001b[39m(\u001b[43mbenefit_closest_to_expiration\u001b[49m)\n",
      "\u001b[0;31mNameError\u001b[0m: name 'benefit_closest_to_expiration' is not defined"
     ]
    }
   ],
   "source": [
    "print(Beneficio.benefit_closest_to_expiration())"
   ]
  }
 ],
 "metadata": {
  "kernelspec": {
   "display_name": "Python 3 (ipykernel)",
   "language": "python",
   "name": "python3"
  },
  "language_info": {
   "codemirror_mode": {
    "name": "ipython",
    "version": 3
   },
   "file_extension": ".py",
   "mimetype": "text/x-python",
   "name": "python",
   "nbconvert_exporter": "python",
   "pygments_lexer": "ipython3",
   "version": "3.11.6"
  }
 },
 "nbformat": 4,
 "nbformat_minor": 5
}
