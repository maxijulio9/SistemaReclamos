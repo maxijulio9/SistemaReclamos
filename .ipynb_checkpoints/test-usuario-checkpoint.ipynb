{
 "cells": [
  {
   "cell_type": "code",
   "execution_count": 1,
   "id": "c9d07cb0-f0bc-4f47-ae22-1e14a8f810fc",
   "metadata": {},
   "outputs": [
    {
     "name": "stdout",
     "output_type": "stream",
     "text": [
      "/opt/oracle/instantclient_21_4\n",
      "entering parameters config\n",
      "finished config for parameters\n",
      "entering parameters config\n",
      "finished config for parameters\n",
      "entering parameters config\n",
      "finished config for parameters\n",
      "entering parameters config\n",
      "finished config for parameters\n",
      "entering parameters config\n",
      "finished config for parameters\n",
      "entering parameters config\n",
      "finished config for parameters\n",
      "entering parameters config\n",
      "finished config for parameters\n",
      "entering parameters config\n",
      "finished config for parameters\n",
      "entering parameters config\n",
      "finished config for parameters\n",
      "entering parameters config\n",
      "finished config for parameters\n",
      "entering parameters config\n",
      "finished config for parameters\n",
      "entering parameters config\n",
      "finished config for parameters\n"
     ]
    },
    {
     "ename": "ImportError",
     "evalue": "cannot import name 'Reclamo' from 'db_models' (unknown location)",
     "output_type": "error",
     "traceback": [
      "\u001b[0;31m---------------------------------------------------------------------------\u001b[0m",
      "\u001b[0;31mImportError\u001b[0m                               Traceback (most recent call last)",
      "Cell \u001b[0;32mIn[1], line 1\u001b[0m\n\u001b[0;32m----> 1\u001b[0m \u001b[38;5;28;01mfrom\u001b[39;00m \u001b[38;5;21;01mdao1\u001b[39;00m \u001b[38;5;28;01mimport\u001b[39;00m ReclamoDAO\n",
      "File \u001b[0;32m~/Documentos/BD2/dao1.py:19\u001b[0m\n\u001b[1;32m     17\u001b[0m \u001b[38;5;28;01mfrom\u001b[39;00m \u001b[38;5;21;01mdb_models\u001b[39;00m\u001b[38;5;21;01m.\u001b[39;00m\u001b[38;5;21;01mprovincia\u001b[39;00m \u001b[38;5;28;01mimport\u001b[39;00m Provincia\n\u001b[1;32m     18\u001b[0m \u001b[38;5;28;01mfrom\u001b[39;00m \u001b[38;5;21;01mdb_models\u001b[39;00m\u001b[38;5;21;01m.\u001b[39;00m\u001b[38;5;21;01mreclamo\u001b[39;00m \u001b[38;5;28;01mimport\u001b[39;00m Reclamo\n\u001b[0;32m---> 19\u001b[0m \u001b[38;5;28;01mfrom\u001b[39;00m \u001b[38;5;21;01mdb_models\u001b[39;00m\u001b[38;5;21;01m.\u001b[39;00m\u001b[38;5;21;01mcomentario\u001b[39;00m \u001b[38;5;28;01mimport\u001b[39;00m Comentario\n\u001b[1;32m     20\u001b[0m \u001b[38;5;28;01mfrom\u001b[39;00m \u001b[38;5;21;01mdb_models\u001b[39;00m\u001b[38;5;21;01m.\u001b[39;00m\u001b[38;5;21;01musuario\u001b[39;00m \u001b[38;5;28;01mimport\u001b[39;00m Usuario\n\u001b[1;32m     22\u001b[0m \u001b[38;5;28;01mfrom\u001b[39;00m \u001b[38;5;21;01mconfig_vars\u001b[39;00m \u001b[38;5;28;01mimport\u001b[39;00m BBDD_CONNECTION\n",
      "File \u001b[0;32m~/Documentos/BD2/db_models/comentario.py:5\u001b[0m\n\u001b[1;32m      3\u001b[0m \u001b[38;5;28;01mfrom\u001b[39;00m \u001b[38;5;21;01mconfig_vars\u001b[39;00m \u001b[38;5;28;01mimport\u001b[39;00m BBDD_CONNECTION\n\u001b[1;32m      4\u001b[0m \u001b[38;5;28;01mfrom\u001b[39;00m \u001b[38;5;21;01mdatetime\u001b[39;00m \u001b[38;5;28;01mimport\u001b[39;00m date  \n\u001b[0;32m----> 5\u001b[0m \u001b[38;5;28;01mfrom\u001b[39;00m \u001b[38;5;21;01m.\u001b[39;00m \u001b[38;5;28;01mimport\u001b[39;00m Reclamo\n\u001b[1;32m      6\u001b[0m \u001b[38;5;28;01mfrom\u001b[39;00m \u001b[38;5;21;01m.\u001b[39;00m \u001b[38;5;28;01mimport\u001b[39;00m Usuario\n\u001b[1;32m      9\u001b[0m Base \u001b[38;5;241m=\u001b[39m declarative_base()\n",
      "\u001b[0;31mImportError\u001b[0m: cannot import name 'Reclamo' from 'db_models' (unknown location)"
     ]
    }
   ],
   "source": [
    "from dao1 import ReclamoDAO\n",
    "print(\"listo\")"
   ]
  }
 ],
 "metadata": {
  "kernelspec": {
   "display_name": "Python 3 (ipykernel)",
   "language": "python",
   "name": "python3"
  },
  "language_info": {
   "codemirror_mode": {
    "name": "ipython",
    "version": 3
   },
   "file_extension": ".py",
   "mimetype": "text/x-python",
   "name": "python",
   "nbconvert_exporter": "python",
   "pygments_lexer": "ipython3",
   "version": "3.11.6"
  }
 },
 "nbformat": 4,
 "nbformat_minor": 5
}
