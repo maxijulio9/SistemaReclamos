{
 "cells": [
  {
   "cell_type": "code",
   "execution_count": 1,
   "id": "dd24300b-5970-4d2a-a22b-a28c8c0ccf61",
   "metadata": {},
   "outputs": [
    {
     "name": "stdout",
     "output_type": "stream",
     "text": [
      "/opt/oracle/instantclient_21_4\n",
      "entering parameters config\n",
      "finished config for parameters\n",
      "fin\n"
     ]
    }
   ],
   "source": [
    "from db_models.municipio import Municipio\n",
    "\n",
    "print(\"fin\")"
   ]
  },
  {
   "cell_type": "code",
   "execution_count": 2,
   "id": "3ef51cac-7563-4492-a597-69a5d9327828",
   "metadata": {},
   "outputs": [
    {
     "name": "stdout",
     "output_type": "stream",
     "text": [
      "Municipios: 1, 1, 1, \n"
     ]
    }
   ],
   "source": [
    "muni = Municipio.all_municipalities()\n",
    "response1 = \"Municipios: \"\n",
    "\n",
    "for e in muni:\n",
    "    response1 += str(e[1]) + \", \"\n",
    "print(response1)"
   ]
  },
  {
   "cell_type": "code",
   "execution_count": 4,
   "id": "62118c3c-ff9b-4262-803e-5a8445fb9ea0",
   "metadata": {},
   "outputs": [
    {
     "name": "stdout",
     "output_type": "stream",
     "text": [
      "No existen registros\n"
     ]
    }
   ],
   "source": [
    "muni = Municipio.single_municipality_by_name(\"Famatina\")\n",
    "print(muni)\n",
    "muni1 = Municipio.single_municipality_by_name(\"Caseros\")\n",
    "print(muni1)\n"
   ]
  }
 ],
 "metadata": {
  "kernelspec": {
   "display_name": "Python 3 (ipykernel)",
   "language": "python",
   "name": "python3"
  },
  "language_info": {
   "codemirror_mode": {
    "name": "ipython",
    "version": 3
   },
   "file_extension": ".py",
   "mimetype": "text/x-python",
   "name": "python",
   "nbconvert_exporter": "python",
   "pygments_lexer": "ipython3",
   "version": "3.11.6"
  }
 },
 "nbformat": 4,
 "nbformat_minor": 5
}
