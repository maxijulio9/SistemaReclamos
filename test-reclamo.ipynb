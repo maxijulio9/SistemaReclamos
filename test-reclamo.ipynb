{
 "cells": [
  {
   "cell_type": "code",
   "execution_count": 1,
   "id": "c6e0b3c1-555b-4dbe-9673-ae9880131242",
   "metadata": {},
   "outputs": [
    {
     "name": "stdout",
     "output_type": "stream",
     "text": [
      "/opt/oracle/instantclient_21_4\n",
      "entering parameters config\n",
      "finished config for parameters\n",
      "entering parameters config\n",
      "finished config for parameters\n",
      "listorti\n"
     ]
    }
   ],
   "source": [
    "from db_models.municipio import Municipio\n",
    "from db_models.reclamo import Reclamo \n",
    "print(\"listorti\")"
   ]
  },
  {
   "cell_type": "code",
   "execution_count": 4,
   "id": "7da497d3-488c-4919-899e-f9ae316e80e2",
   "metadata": {},
   "outputs": [
    {
     "name": "stdout",
     "output_type": "stream",
     "text": [
      "[('Manguera rota', 'una manguera pierde agua', 'Chilecito')]\n"
     ]
    }
   ],
   "source": [
    "response = Reclamo.claims_by_municipality(1)\n",
    "print(response)\n"
   ]
  }
 ],
 "metadata": {
  "kernelspec": {
   "display_name": "Python 3 (ipykernel)",
   "language": "python",
   "name": "python3"
  },
  "language_info": {
   "codemirror_mode": {
    "name": "ipython",
    "version": 3
   },
   "file_extension": ".py",
   "mimetype": "text/x-python",
   "name": "python",
   "nbconvert_exporter": "python",
   "pygments_lexer": "ipython3",
   "version": "3.11.6"
  }
 },
 "nbformat": 4,
 "nbformat_minor": 5
}
