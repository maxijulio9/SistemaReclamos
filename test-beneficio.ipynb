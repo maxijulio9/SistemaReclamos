{
 "cells": [
  {
   "cell_type": "code",
   "execution_count": 2,
   "id": "25c142d2-9625-4033-a581-b49e773372ba",
   "metadata": {},
   "outputs": [
    {
     "name": "stdout",
     "output_type": "stream",
     "text": [
      "listo\n"
     ]
    }
   ],
   "source": [
    "from db_models.beneficio import Beneficio\n",
    "print(\"listo\")"
   ]
  },
  {
   "cell_type": "code",
   "execution_count": 3,
   "id": "e767071b-4035-42a9-bef6-30158b67689f",
   "metadata": {},
   "outputs": [
    {
     "name": "stdout",
     "output_type": "stream",
     "text": [
      "Tenemos las siguientes beneficios: Descuento supermercado SpaceX, \n"
     ]
    }
   ],
   "source": [
    "response = \"Tenemos las siguientes beneficios: \"\n",
    "beneficios = Beneficio.all_benefits()\n",
    "for e in beneficios:\n",
    "    response += e[1]+\", \"\n",
    "print(response)"
   ]
  },
  {
   "cell_type": "code",
   "execution_count": 4,
   "id": "40a3894a-a0fc-4bca-ac3a-c9d3bc1bc091",
   "metadata": {},
   "outputs": [
    {
     "name": "stdout",
     "output_type": "stream",
     "text": [
      "[(1.0, 'Descuento supermercado SpaceX', 'El beneficio tiene un descuento del 30% sin tope de reintegro en todos los supermercados SpaceX', datetime.datetime(2024, 4, 24, 0, 0), datetime.datetime(2024, 12, 31, 0, 0))]\n"
     ]
    }
   ],
   "source": [
    "print(Beneficio.benefit_closest_to_expiration())"
   ]
  }
 ],
 "metadata": {
  "kernelspec": {
   "display_name": "Python 3 (ipykernel)",
   "language": "python",
   "name": "python3"
  },
  "language_info": {
   "codemirror_mode": {
    "name": "ipython",
    "version": 3
   },
   "file_extension": ".py",
   "mimetype": "text/x-python",
   "name": "python",
   "nbconvert_exporter": "python",
   "pygments_lexer": "ipython3",
   "version": "3.11.6"
  }
 },
 "nbformat": 4,
 "nbformat_minor": 5
}
